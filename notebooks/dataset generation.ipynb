{
 "cells": [
  {
   "cell_type": "code",
   "execution_count": 1,
   "metadata": {},
   "outputs": [
    {
     "name": "stdout",
     "output_type": "stream",
     "text": [
      "Imports complete.\n"
     ]
    }
   ],
   "source": [
    "import pandas as pd\n",
    "\n",
    "print('Imports complete.')"
   ]
  },
  {
   "cell_type": "code",
   "execution_count": 2,
   "metadata": {},
   "outputs": [],
   "source": [
    "# Technique from here: https://stackoverflow.com/questions/1628949/to-find-first-n-prime-numbers-in-python\n",
    "def prime(i, primes):\n",
    "    for prime in primes:\n",
    "        if not (i == prime or i % prime):\n",
    "            return False\n",
    "    primes.add(i)\n",
    "    return i\n",
    "\n",
    "def historic(n):\n",
    "    primes = set([2])\n",
    "    i, p = 2, 0\n",
    "    while True:\n",
    "        if prime(i, primes):\n",
    "            p += 1\n",
    "            if p == n:\n",
    "                return primes\n",
    "        i += 1\n",
    "def isPrime(n):\n",
    "    import re\n",
    "    # see http://tinyurl.com/3dbhjv\n",
    "    return re.match(r'^1?$|^(11+?)\\1+$', '1' * n) == None"
   ]
  },
  {
   "cell_type": "code",
   "execution_count": 3,
   "metadata": {},
   "outputs": [],
   "source": [
    "primes = sorted(list(historic(10000)))\n",
    "stride_width = 4\n",
    "\n",
    "# Generate the dataset where p1 is a prime at n, p2 is a prime at n+1, \n",
    "#  p3 is a prime at n+2, p4 is a prime at n+3, etc for the entire stride length\n",
    "rows = []\n",
    "for i in range(len(primes)):\n",
    "    if i+stride_width-1 >= len(primes):\n",
    "        break\n",
    "    \n",
    "    dicti = {}\n",
    "    \n",
    "    for j in range(stride_width):\n",
    "        dicti['p' + str(j+1)] = primes[i + j]\n",
    "    rows.append(dicti)"
   ]
  },
  {
   "cell_type": "code",
   "execution_count": 4,
   "metadata": {},
   "outputs": [
    {
     "name": "stdout",
     "output_type": "stream",
     "text": [
      "[{'p1': 2, 'p2': 3, 'p3': 5, 'p4': 7}, {'p1': 3, 'p2': 5, 'p3': 7, 'p4': 11}, {'p1': 5, 'p2': 7, 'p3': 11, 'p4': 13}, {'p1': 7, 'p2': 11, 'p3': 13, 'p4': 17}]\n"
     ]
    }
   ],
   "source": [
    "print(rows[:4])"
   ]
  },
  {
   "cell_type": "code",
   "execution_count": 5,
   "metadata": {},
   "outputs": [
    {
     "data": {
      "text/html": [
       "<div>\n",
       "<style scoped>\n",
       "    .dataframe tbody tr th:only-of-type {\n",
       "        vertical-align: middle;\n",
       "    }\n",
       "\n",
       "    .dataframe tbody tr th {\n",
       "        vertical-align: top;\n",
       "    }\n",
       "\n",
       "    .dataframe thead th {\n",
       "        text-align: right;\n",
       "    }\n",
       "</style>\n",
       "<table border=\"1\" class=\"dataframe\">\n",
       "  <thead>\n",
       "    <tr style=\"text-align: right;\">\n",
       "      <th></th>\n",
       "      <th>p1</th>\n",
       "      <th>p2</th>\n",
       "      <th>p3</th>\n",
       "      <th>p4</th>\n",
       "    </tr>\n",
       "  </thead>\n",
       "  <tbody>\n",
       "    <tr>\n",
       "      <th>0</th>\n",
       "      <td>2</td>\n",
       "      <td>3</td>\n",
       "      <td>5</td>\n",
       "      <td>7</td>\n",
       "    </tr>\n",
       "    <tr>\n",
       "      <th>1</th>\n",
       "      <td>3</td>\n",
       "      <td>5</td>\n",
       "      <td>7</td>\n",
       "      <td>11</td>\n",
       "    </tr>\n",
       "    <tr>\n",
       "      <th>2</th>\n",
       "      <td>5</td>\n",
       "      <td>7</td>\n",
       "      <td>11</td>\n",
       "      <td>13</td>\n",
       "    </tr>\n",
       "    <tr>\n",
       "      <th>3</th>\n",
       "      <td>7</td>\n",
       "      <td>11</td>\n",
       "      <td>13</td>\n",
       "      <td>17</td>\n",
       "    </tr>\n",
       "    <tr>\n",
       "      <th>4</th>\n",
       "      <td>11</td>\n",
       "      <td>13</td>\n",
       "      <td>17</td>\n",
       "      <td>19</td>\n",
       "    </tr>\n",
       "  </tbody>\n",
       "</table>\n",
       "</div>"
      ],
      "text/plain": [
       "   p1  p2  p3  p4\n",
       "0   2   3   5   7\n",
       "1   3   5   7  11\n",
       "2   5   7  11  13\n",
       "3   7  11  13  17\n",
       "4  11  13  17  19"
      ]
     },
     "execution_count": 5,
     "metadata": {},
     "output_type": "execute_result"
    }
   ],
   "source": [
    "df = pd.DataFrame(rows)\n",
    "df.head()"
   ]
  },
  {
   "cell_type": "code",
   "execution_count": 6,
   "metadata": {},
   "outputs": [],
   "source": [
    "df.to_csv('./primes.csv', index=False)"
   ]
  },
  {
   "cell_type": "code",
   "execution_count": 31,
   "metadata": {},
   "outputs": [],
   "source": [
    "# This next section will make a dataset containing a product of two primes. \n",
    "#   The target number will be the smallest number of the two\n",
    "import random\n",
    "\n",
    "rows = []\n",
    "for i in range(10000):\n",
    "    dicti = {}\n",
    "    \n",
    "    p1 = random.choice(primes)\n",
    "    p2 = random.choice(primes)\n",
    "    dicti['product'] = p1*p2\n",
    "    dicti['factor1'] = p1 if p1 > p2 else p2\n",
    "    dicti['factor2'] = p2 if p1 > p2 else p1\n",
    "    \n",
    "    rows.append(dicti)"
   ]
  },
  {
   "cell_type": "code",
   "execution_count": 32,
   "metadata": {},
   "outputs": [
    {
     "data": {
      "text/html": [
       "<div>\n",
       "<style scoped>\n",
       "    .dataframe tbody tr th:only-of-type {\n",
       "        vertical-align: middle;\n",
       "    }\n",
       "\n",
       "    .dataframe tbody tr th {\n",
       "        vertical-align: top;\n",
       "    }\n",
       "\n",
       "    .dataframe thead th {\n",
       "        text-align: right;\n",
       "    }\n",
       "</style>\n",
       "<table border=\"1\" class=\"dataframe\">\n",
       "  <thead>\n",
       "    <tr style=\"text-align: right;\">\n",
       "      <th></th>\n",
       "      <th>product</th>\n",
       "      <th>factor1</th>\n",
       "      <th>factor2</th>\n",
       "    </tr>\n",
       "  </thead>\n",
       "  <tbody>\n",
       "    <tr>\n",
       "      <th>0</th>\n",
       "      <td>1389337303</td>\n",
       "      <td>92003</td>\n",
       "      <td>15101</td>\n",
       "    </tr>\n",
       "    <tr>\n",
       "      <th>1</th>\n",
       "      <td>2546371</td>\n",
       "      <td>82141</td>\n",
       "      <td>31</td>\n",
       "    </tr>\n",
       "    <tr>\n",
       "      <th>2</th>\n",
       "      <td>2566395283</td>\n",
       "      <td>53917</td>\n",
       "      <td>47599</td>\n",
       "    </tr>\n",
       "    <tr>\n",
       "      <th>3</th>\n",
       "      <td>570318289</td>\n",
       "      <td>75629</td>\n",
       "      <td>7541</td>\n",
       "    </tr>\n",
       "    <tr>\n",
       "      <th>4</th>\n",
       "      <td>1836168689</td>\n",
       "      <td>71633</td>\n",
       "      <td>25633</td>\n",
       "    </tr>\n",
       "  </tbody>\n",
       "</table>\n",
       "</div>"
      ],
      "text/plain": [
       "      product  factor1  factor2\n",
       "0  1389337303    92003    15101\n",
       "1     2546371    82141       31\n",
       "2  2566395283    53917    47599\n",
       "3   570318289    75629     7541\n",
       "4  1836168689    71633    25633"
      ]
     },
     "execution_count": 32,
     "metadata": {},
     "output_type": "execute_result"
    }
   ],
   "source": [
    "df = pd.DataFrame(rows)\n",
    "df.head()"
   ]
  },
  {
   "cell_type": "code",
   "execution_count": 33,
   "metadata": {},
   "outputs": [],
   "source": [
    "df.to_csv('./primeproducts.csv', index=False)"
   ]
  }
 ],
 "metadata": {
  "kernelspec": {
   "display_name": "Python 3",
   "language": "python",
   "name": "python3"
  },
  "language_info": {
   "codemirror_mode": {
    "name": "ipython",
    "version": 3
   },
   "file_extension": ".py",
   "mimetype": "text/x-python",
   "name": "python",
   "nbconvert_exporter": "python",
   "pygments_lexer": "ipython3",
   "version": "3.8.3"
  }
 },
 "nbformat": 4,
 "nbformat_minor": 4
}
